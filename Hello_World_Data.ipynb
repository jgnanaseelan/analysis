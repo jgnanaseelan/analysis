{
  "nbformat": 4,
  "nbformat_minor": 0,
  "metadata": {
    "colab": {
      "name": "Hello-World-Data.ipynb",
      "provenance": [],
      "authorship_tag": "ABX9TyP7hC/UkMX4CutlOxReqQPA",
      "include_colab_link": true
    },
    "kernelspec": {
      "name": "python3",
      "display_name": "Python 3"
    },
    "language_info": {
      "name": "python"
    }
  },
  "cells": [
    {
      "cell_type": "markdown",
      "metadata": {
        "id": "view-in-github",
        "colab_type": "text"
      },
      "source": [
        "<a href=\"https://colab.research.google.com/github/jgnanaseelan/analysis/blob/main/Hello_World_Data.ipynb\" target=\"_parent\"><img src=\"https://colab.research.google.com/assets/colab-badge.svg\" alt=\"Open In Colab\"/></a>"
      ]
    },
    {
      "cell_type": "markdown",
      "metadata": {
        "id": "ww2BlhN0TtLn"
      },
      "source": [
        "## Ingest of Data"
      ]
    },
    {
      "cell_type": "markdown",
      "metadata": {
        "id": "Dhl9XWLpVu-C"
      },
      "source": [
        "###  Download the content"
      ]
    },
    {
      "cell_type": "code",
      "metadata": {
        "colab": {
          "base_uri": "https://localhost:8080/"
        },
        "id": "3d8gLccITUUx",
        "outputId": "457888b9-47d0-4d25-b568-b0ec5b86db5e"
      },
      "source": [
        "!wget https://raw.githubusercontent.com/jgnanaseelan/analysis/main/word.txt"
      ],
      "execution_count": 1,
      "outputs": [
        {
          "output_type": "stream",
          "text": [
            "--2021-06-18 18:14:56--  https://raw.githubusercontent.com/jgnanaseelan/analysis/main/word.txt\n",
            "Resolving raw.githubusercontent.com (raw.githubusercontent.com)... 185.199.110.133, 185.199.111.133, 185.199.108.133, ...\n",
            "Connecting to raw.githubusercontent.com (raw.githubusercontent.com)|185.199.110.133|:443... connected.\n",
            "HTTP request sent, awaiting response... 200 OK\n",
            "Length: 1186086 (1.1M) [text/plain]\n",
            "Saving to: ‘word.txt’\n",
            "\n",
            "word.txt            100%[===================>]   1.13M  --.-KB/s    in 0.08s   \n",
            "\n",
            "2021-06-18 18:14:57 (14.9 MB/s) - ‘word.txt’ saved [1186086/1186086]\n",
            "\n"
          ],
          "name": "stdout"
        }
      ]
    },
    {
      "cell_type": "code",
      "metadata": {
        "colab": {
          "base_uri": "https://localhost:8080/"
        },
        "id": "X7mOHHarV6W2",
        "outputId": "99c3902f-86a8-47bc-8c95-8e56bf9951b4"
      },
      "source": [
        "!tail word.txt"
      ],
      "execution_count": 3,
      "outputs": [
        {
          "output_type": "stream",
          "text": [
            "\u0000\t\u0000\t\u0000\t\u0000\r\u0000\n",
            "\u0000\t\u0000(\u0000R\u0000e\u0000a\u0000d\u0000 \u0000a\u0000l\u0000s\u0000o\u0000.\u0000.\u0000)\u0000 \u0000\t\u0000\t\u0000\r\u0000\n",
            "\u0000\t\u0000\t\u0000\t\u0000\r\u0000\n",
            "\u0000\t\u0000A\u0000 \u0000C\u0000l\u0000e\u0000a\u0000r\u0000 \u0000G\u0000o\u0000s\u0000p\u0000e\u0000l\u0000 \u0000M\u0000e\u0000s\u0000s\u0000a\u0000g\u0000e\u0000\t\u0000\t\u0000\r\u0000\n",
            "\u0000\t\u0000C\u0000o\u0000u\u0000n\u0000t\u0000e\u0000r\u0000f\u0000e\u0000i\u0000t\u0000 \u0000R\u0000e\u0000v\u0000i\u0000v\u0000a\u0000l\u0000\t\u0000\t\u0000\r\u0000\n",
            "\u0000\t\u0000\t\u0000\t\u0000\r\u0000\n",
            "\u0000\t\u0000\t\u0000\t\u0000\r\u0000\n",
            "\u0000\t\u0000\t\u0000\t\u0000\r\u0000\n",
            "\u0000\t\u0000\t\u0000\t\u0000\r\u0000\n",
            "\u0000"
          ],
          "name": "stdout"
        }
      ]
    }
  ]
}